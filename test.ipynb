{
 "cells": [
  {
   "cell_type": "code",
   "execution_count": 4,
   "metadata": {},
   "outputs": [],
   "source": [
    "import os\n",
    "\n",
    "def remover_linhas_nao_existentes(pasta, arquivo_texto, arquivo_saida):\n",
    "    \"\"\"Remove linhas do arquivo_texto que correspondem a arquivos .wav_f0.npy\n",
    "    que não existem na pasta.\n",
    "\n",
    "    Args:\n",
    "        pasta (str): Caminho da pasta onde os arquivos .wav_f0.npy estão.\n",
    "        arquivo_texto (str): Caminho do arquivo de texto.\n",
    "        arquivo_saida (str): Caminho do novo arquivo de texto com as linhas removidas.\n",
    "    \"\"\"\n",
    "\n",
    "    # Cria uma lista dos arquivos .wav_f0.npy existentes na pasta\n",
    "    arquivos_existentes = [f for f in os.listdir(pasta) if f.endswith('.wav_f0.npy')]\n",
    "\n",
    "    # Lê o arquivo de texto\n",
    "    with open(arquivo_texto, 'r') as arquivo:\n",
    "        linhas = arquivo.readlines()\n",
    "\n",
    "    # Remove as linhas que não correspondem a arquivos existentes\n",
    "    linhas_filtradas = []\n",
    "    for linha in linhas:\n",
    "        partes = linha.strip().split('|')\n",
    "        nome_arquivo = partes[0].split('/')[-1].split('.')[0]  # Extrai o nome do arquivo\n",
    "        if f\"{nome_arquivo}.wav_f0.npy\" in arquivos_existentes:\n",
    "            linhas_filtradas.append(linha)\n",
    "\n",
    "    # Escreve as linhas restantes em um novo arquivo\n",
    "    with open(arquivo_saida, 'w') as arquivo_saida:\n",
    "        arquivo_saida.writelines(linhas_filtradas)\n",
    "\n",
    "# Exemplo de uso\n",
    "pasta = '/home/projects/PitchExtractor/Data/wavs'  # Substitua pelo caminho da sua pasta\n",
    "arquivo_texto = '/home/projects/PitchExtractor/Data/val.txt'  # Substitua pelo nome do seu arquivo de texto\n",
    "arquivo_saida = '/home/projects/PitchExtractor/Data/val_filtrado.txt'  # Nomeie o novo arquivo\n",
    "\n",
    "remover_linhas_nao_existentes(pasta, arquivo_texto, arquivo_saida)"
   ]
  },
  {
   "cell_type": "code",
   "execution_count": 1,
   "metadata": {},
   "outputs": [
    {
     "data": {
      "text/plain": [
       "device(type='cuda')"
      ]
     },
     "execution_count": 1,
     "metadata": {},
     "output_type": "execute_result"
    }
   ],
   "source": [
    "import torch\n",
    "device = torch.device(\"cuda\" if torch.cuda.is_available() else \"cpu\")\n",
    "device"
   ]
  },
  {
   "cell_type": "code",
   "execution_count": 1,
   "metadata": {},
   "outputs": [],
   "source": [
    "import phonemizer\n",
    "\n",
    "\n",
    "global_phonemizer = phonemizer.backend.EspeakBackend(\n",
    "    language=\"pt-br\", preserve_punctuation=True, with_stress=True\n",
    ")"
   ]
  },
  {
   "cell_type": "code",
   "execution_count": 2,
   "metadata": {},
   "outputs": [
    {
     "name": "stdout",
     "output_type": "stream",
     "text": [
      "175\n"
     ]
    }
   ],
   "source": [
    "from text_utils import TextCleaner\n",
    "textclenaer = TextCleaner()"
   ]
  },
  {
   "cell_type": "code",
   "execution_count": 2,
   "metadata": {},
   "outputs": [],
   "source": [
    "from text_utils import process_train_list\n",
    "\n",
    "process_train_list('/home/projects/styletts/Data/metadata.txt', textclenaer)"
   ]
  },
  {
   "cell_type": "code",
   "execution_count": 3,
   "metadata": {},
   "outputs": [
    {
     "name": "stdout",
     "output_type": "stream",
     "text": [
      "Arquivo criado e conteúdo 'pˌeɾəsuazˈɐ̃ʊ̃ nˌɐ̃ʊ̃ ɛ. ' adicionado com sucesso.\n"
     ]
    }
   ],
   "source": [
    "text = \"\"\"persuasão não é.\"\"\"\n",
    "ps = global_phonemizer.phonemize([text])\n",
    "ps = textclenaer(ps)\n"
   ]
  },
  {
   "cell_type": "code",
   "execution_count": null,
   "metadata": {},
   "outputs": [],
   "source": [
    "text = \"era um vez\"\n",
    "ps = global_phonemizer.phonemize([text])\n",
    "ps = word_tokenize(ps[0])\n",
    "\n",
    "ps = \" \".join(ps)\n",
    "\n",
    "ps"
   ]
  },
  {
   "cell_type": "code",
   "execution_count": null,
   "metadata": {},
   "outputs": [],
   "source": [
    "from xphonebr import Phonemizer\n",
    "\n",
    "phone = Phonemizer(normalizer=True)\n"
   ]
  },
  {
   "cell_type": "code",
   "execution_count": null,
   "metadata": {},
   "outputs": [],
   "source": [
    "text = phone.phonemise(text)\n",
    "ps = word_tokenize(ps)\n",
    "ps = \" \".join(ps)\n",
    "\n",
    "ps\n"
   ]
  },
  {
   "cell_type": "code",
   "execution_count": null,
   "metadata": {},
   "outputs": [],
   "source": [
    "text = \"\"\"Era uma vez, numa pequena vila encantadora, viviam uma mãe dedicada e seus dois filhos, uma irmã chamada Ana e um irmão chamado João. A mãe, Maria, era conhecida por suas habilidades culinárias e especialmente pelo delicioso pão que fazia todas as manhãs.\"\"\"\n",
    "\n",
    "text = text.strip()\n",
    "ps = global_phonemizer.phonemize([text])\n",
    "ps = word_tokenize(ps[0])\n",
    "ps = \" \".join(ps)\n",
    "tokens = textclenaer(ps)"
   ]
  },
  {
   "cell_type": "code",
   "execution_count": null,
   "metadata": {},
   "outputs": [],
   "source": [
    "_letters = \"abcdefghijklmnopqrstuvwxyzàáãâçéêèíñóõôöúü\"\n",
    "_letters_ipa = \"ɑɐɒæɓʙβɔɕçɗɖðʤəɘɚɛɜɝɞɟʄɡɠɢʛɦɧħɥʜɨɪʝɭɬɫɮʟɱɯɰŋɳɲɴøɵɸθœɶʘɹɺɾɻʀʁɽʂʃʈʧʉʊʋⱱʌɣɤʍχʎʏʑʐʒʔʡʕʢǀǁǂǃˈˌːˑʼʴʰʱʲʷˠˤ˞↓↑→↗↘'̩'ᵻ\"\n",
    "\n",
    "# Criando listas de cada variável\n",
    "lista_letters = list(_letters)\n",
    "\n",
    "lista_letters_ipa = list(_letters_ipa)\n",
    "\n",
    "\n"
   ]
  },
  {
   "cell_type": "code",
   "execution_count": null,
   "metadata": {},
   "outputs": [],
   "source": [
    "_letters.split(' ')"
   ]
  }
 ],
 "metadata": {
  "kernelspec": {
   "display_name": "tts",
   "language": "python",
   "name": "python3"
  },
  "language_info": {
   "codemirror_mode": {
    "name": "ipython",
    "version": 3
   },
   "file_extension": ".py",
   "mimetype": "text/x-python",
   "name": "python",
   "nbconvert_exporter": "python",
   "pygments_lexer": "ipython3",
   "version": "3.10.14"
  }
 },
 "nbformat": 4,
 "nbformat_minor": 2
}
